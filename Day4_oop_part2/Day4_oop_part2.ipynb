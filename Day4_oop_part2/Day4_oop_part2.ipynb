{
 "cells": [
  {
   "cell_type": "markdown",
   "metadata": {},
   "source": [
    "#### exercise 1:\n",
    "Create a class named `Car` with the following attributes:\n",
    "- class attribute `car_count` which counts the number of cars created.\n",
    "- instance attributes `color`, `brand`, `year`, and `price`.\n",
    "\n",
    "and the following methods:\n",
    "- a class method `get_car_count` that returns the number of cars created.\n",
    "- a static method `car_info` that returns some information about what a car is."
   ]
  },
  {
   "cell_type": "code",
   "execution_count": 66,
   "metadata": {},
   "outputs": [
    {
     "name": "stdout",
     "output_type": "stream",
     "text": [
      "A car defined by its brand, color, year and price \n",
      "2\n"
     ]
    }
   ],
   "source": [
    "class Car:\n",
    "\n",
    "    car_count=0\n",
    "\n",
    "    def __init__(self, color,brand,year,price):\n",
    "        self.color=color\n",
    "        self.brand=brand\n",
    "        self.year=year\n",
    "        self.price=price\n",
    "        Car.car_count+= 1\n",
    "        \n",
    "\n",
    "    @classmethod\n",
    "    def get_car_count(cls):\n",
    "        return cls.car_count\n",
    "\n",
    "\n",
    "    \"\"\"@staticmethod\n",
    "    def car_info(self):\n",
    "        return f\"This is a {self.brand} with {self.color} color, its a {self.year} car with {self.price} price\"\n",
    "        \"\"\"\n",
    "\n",
    "    @staticmethod\n",
    "    def car_info():\n",
    "        return \"A car defined by its brand, color, year and price \"\n",
    "        \n",
    "\n",
    "car1=Car(\"BLACK\",\"BMW\",\"2022\",\"2JD\")\n",
    "car2=Car(\"BLACK\",\"BMW\",\"2022\",\"2JD\")\n",
    "\n",
    "print (Car.car_info())\n",
    "print (Car.get_car_count())\n"
   ]
  },
  {
   "cell_type": "markdown",
   "metadata": {},
   "source": [
    "#### exercise 2:\n",
    "Create a class named `BankAccount` with the following attributes:\n",
    "- class attribute `interest_rate` that is shared among all instances of the class.\n",
    "- instance attributes `name`, `balance`.\n",
    "\n",
    "and the following methods:\n",
    "- a class method `set_interest_rate` that sets the interest rate.\n",
    "- a class method `get_interest_rate` that returns the interest rate.\n",
    "- a method `add_money` that adds a specific amount to the balance.\n",
    "- a method `withdraw_money` that withdraws a specific amount from the balance.\n",
    "- a method `get_account_balance` that returns the current balance of the account.\n",
    "- a method `calculate_annual_interest` that returns the annual interest on the account.\n",
    "> annual interest = balance * interest rate"
   ]
  },
  {
   "cell_type": "code",
   "execution_count": 67,
   "metadata": {},
   "outputs": [
    {
     "name": "stdout",
     "output_type": "stream",
     "text": [
      "0.05\n",
      "1000\n",
      "1200\n",
      "60.0\n"
     ]
    },
    {
     "data": {
      "text/plain": [
       "\"You don't have enough balance\""
      ]
     },
     "execution_count": 67,
     "metadata": {},
     "output_type": "execute_result"
    }
   ],
   "source": [
    "class BankAccount:\n",
    "    interest_rate = 0.05\n",
    "\n",
    "    def __init__(self, name, balance=0):\n",
    "        self.balance = balance\n",
    "        self.name=name\n",
    "   \n",
    "    @classmethod\n",
    "    def set_interest_rate(cls,interest):\n",
    "        cls.interest_rate=interest\n",
    "\n",
    "    @classmethod\n",
    "    def get_interest_rate(cls):\n",
    "        return(cls.interest_rate)\n",
    "\n",
    "    def add_money(self,money):\n",
    "        self.balance=self.balance+money\n",
    "\n",
    "    def withdraw_money(self,spend):\n",
    "       count=self.balance-spend\n",
    "       if count <= 0 : \n",
    "        return \"You don't have enough balance\"\n",
    "       else:\n",
    "        self.balance=count\n",
    "\n",
    "           \n",
    "\n",
    "    def get_account_balance(self):\n",
    "        return self.balance\n",
    "\n",
    "    def calculate_annual_interest(self):\n",
    "        return self.balance * BankAccount.interest_rate\n",
    "    \n",
    "\n",
    "\n",
    "account=BankAccount(\"lina\",1000)\n",
    "print (BankAccount.interest_rate)\n",
    "print (account.balance)\n",
    "account.add_money(200)\n",
    "print (account.balance)\n",
    "print (account.calculate_annual_interest())\n",
    "account.withdraw_money(2000)\n",
    "\n",
    "\n"
   ]
  },
  {
   "cell_type": "markdown",
   "metadata": {},
   "source": [
    "#### exercise 3:\n",
    "Create a class named `Person` with the following specifications:\n",
    "- private instance attributes `__name`, `__last_name`, `__age`.\n",
    "- create methods using `@property` decorator to return the values of the attributes.\n",
    "- create methods using `@<property_name>.setter` decorator to set the values of the attributes."
   ]
  },
  {
   "cell_type": "code",
   "execution_count": 68,
   "metadata": {},
   "outputs": [],
   "source": [
    "class Person:\n",
    "    def __init__(self,name,last_name,age):\n",
    "       self.__name=name\n",
    "       self.__last_name=last_name\n",
    "       self.__age=age\n",
    "\n",
    "    \n",
    "    @property\n",
    "    def name(self):\n",
    "        return f\"I am {self.__name}\"\n",
    "    \n",
    "    @property\n",
    "    def last_name(self):\n",
    "        return f\"my last name is {self.__last_name}\"\n",
    "     \n",
    "    @property\n",
    "    def age(self):\n",
    "        return f\",I am {self.__age} years old\"\n",
    "    \n",
    "\n",
    "    @name.setter\n",
    "    def person_info(self, name,last_name,age):\n",
    "        self.__name = name\n",
    "        \n",
    "        \n",
    "        \n",
    "    @last_name.setter\n",
    "    def person_info(self,last_name):\n",
    "        self.__last_name=last_name\n",
    "\n",
    "    @age.setter\n",
    "    def person_info(self,age):\n",
    "        self.__age=age\n",
    "        \n",
    "\n"
   ]
  },
  {
   "cell_type": "markdown",
   "metadata": {},
   "source": [
    "#### exercise 4:\n",
    "Create a class named `Employee` with the following attributes:\n",
    "- instance attributes `name`, `salary`.\n",
    "\n",
    "Create a class named `Manager` with the following attributes:\n",
    "- instance attribute `department`.\n",
    "\n",
    "Create a class Executive that inherits from both `Employee` and `Manager` classes and has the following attributes:\n",
    "- instance attributes `company_car`, `bonus`.\n",
    "- implement an appropriate `__str__` method to print the information about the executive."
   ]
  },
  {
   "cell_type": "code",
   "execution_count": 5,
   "metadata": {},
   "outputs": [
    {
     "name": "stdout",
     "output_type": "stream",
     "text": [
      "Mr bob is the executive of  Finance department, I drive BMW and get 40000 JD\n"
     ]
    }
   ],
   "source": [
    "class Employee:\n",
    "    def __init__(self,name, salary):\n",
    "        self.name=name\n",
    "        self.salary=salary\n",
    "  \n",
    "    \n",
    "    def set_name(self,New_name):\n",
    "       self.name=New_name\n",
    "    \n",
    "    \n",
    "    def set_salary(self,new_sal):\n",
    "         self.salary=new_sal\n",
    "    \n",
    "    \n",
    "\n",
    "class Manager:\n",
    "    def __init__(self,department):\n",
    "        self.department=department\n",
    "    \n",
    "    \n",
    "    def set_department(self,Other):\n",
    "        self.department=Other\n",
    "  \n",
    "\n",
    "    \"\"\"@department.setter\n",
    "    def change(self,department):\n",
    "        self.__department=department\"\"\"\n",
    "\n",
    "\n",
    "class Executive(Employee, Manager):\n",
    "      \n",
    "     def __init__(self, company_car, bonus , N , S , D):\n",
    "        self.company_car=company_car\n",
    "        self.bonus=bonus\n",
    "\n",
    "        super().set_name(N)\n",
    "        super().set_salary(S)\n",
    "        super().set_department(D)\n",
    "        \n",
    "\n",
    "\n",
    "     def __str__ (self):\n",
    "        return f\"Mr {self.name} is the executive of  {self.department} department, I drive {self.company_car} and get 40000 JD\"\n",
    "     \n",
    "\n",
    "\n",
    "\n",
    "bob=Executive(\"BMW\",200,\"bob\",20000, \"Finance\")\n",
    "\n",
    "print(bob)"
   ]
  },
  {
   "cell_type": "markdown",
   "metadata": {},
   "source": [
    "#### exercise 5:\n",
    "Using method chaining, create a class `Person` with the following attributes:\n",
    "- instance attributes `name`, `age`.\n",
    "\n",
    "and the following methods:\n",
    "- a method `set_name` that sets the name of the person and returns the instance.\n",
    "- a method `set_age` that sets the age of the person and returns the instance.\n",
    "- a method `get_person_info` that returns the information about the person."
   ]
  },
  {
   "cell_type": "code",
   "execution_count": 70,
   "metadata": {},
   "outputs": [],
   "source": [
    "class Person:\n",
    "    def __init__(self, name, age):\n",
    "        self.name = name\n",
    "        self.age = age\n",
    "    \n",
    "    def set_name(self,name):\n",
    "        self.name = name\n",
    "        return self\n",
    "    \n",
    "    def set_age(self,age):\n",
    "        self.age = age\n",
    "        return self\n",
    "    \n",
    "    def get_person_info(self):\n",
    "        return f\"Name is {self.name}, who is {self.age} years old.\"\n",
    "    \n",
    "\n"
   ]
  }
 ],
 "metadata": {
  "kernelspec": {
   "display_name": "Python 3",
   "language": "python",
   "name": "python3"
  },
  "language_info": {
   "codemirror_mode": {
    "name": "ipython",
    "version": 3
   },
   "file_extension": ".py",
   "mimetype": "text/x-python",
   "name": "python",
   "nbconvert_exporter": "python",
   "pygments_lexer": "ipython3",
   "version": "3.12.3"
  }
 },
 "nbformat": 4,
 "nbformat_minor": 2
}

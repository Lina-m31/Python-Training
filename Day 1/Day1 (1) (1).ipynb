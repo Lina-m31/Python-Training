{
 "cells": [
  {
   "cell_type": "code",
   "execution_count": 28,
   "id": "16837e5e",
   "metadata": {},
   "outputs": [
    {
     "name": "stdout",
     "output_type": "stream",
     "text": [
      "Lina's Day 1 Exercises\n"
     ]
    }
   ],
   "source": [
    "print (\"Lina's Day 1 Exercises\")"
   ]
  },
  {
   "cell_type": "code",
   "execution_count": 21,
   "id": "ebb0bfd1-90a7-48ba-81c7-f7e2f14c0016",
   "metadata": {},
   "outputs": [
    {
     "name": "stdout",
     "output_type": "stream",
     "text": [
      "Hello Python!\n"
     ]
    }
   ],
   "source": [
    "#Complete the code to print out Hello Python! in a formatted string.\n",
    "\n",
    "message = \"Python\"\n",
    "Greeting = \"Hello\"\n",
    "message_format = \"{}Python{}\"\n",
    "print(Greeting + message_format.format( \" \",\"!\"))"
   ]
  },
  {
   "cell_type": "code",
   "execution_count": 22,
   "id": "eeb22482-d92a-4002-8997-f48724794ba4",
   "metadata": {},
   "outputs": [
    {
     "name": "stdout",
     "output_type": "stream",
     "text": [
      "15\n",
      "510\n"
     ]
    }
   ],
   "source": [
    "\"\"\"\n",
    "Correct the following code to:\n",
    "Perform the arithmetic operation on a and b.\n",
    "Perform concatenation on a and b.\n",
    "\"\"\"\n",
    "a = 5\n",
    "b = \"10\"\n",
    "\n",
    "# perform addition expected output is 15\n",
    "addition = a + int(b)\n",
    "print(addition)\n",
    "\n",
    "# perform concatenation expected output is 510\n",
    "concatenation = str(a) + b\n",
    "print(concatenation)"
   ]
  },
  {
   "cell_type": "code",
   "execution_count": 23,
   "id": "988de022-c2ad-4ba3-a428-8e2217fcefea",
   "metadata": {},
   "outputs": [
    {
     "name": "stdout",
     "output_type": "stream",
     "text": [
      "@estarta.com\n",
      "estarta.com\n"
     ]
    }
   ],
   "source": [
    "#Complete the code to extract and print out the domain name from the email address.\n",
    "\n",
    "\n",
    "email = \"python_dev@estarta.com\"\n",
    "\n",
    "# extract domain from email\n",
    "domain = email.find('@')\n",
    "print(email[domain:])\n",
    "\n",
    "#or\n",
    "\n",
    "domain = email.split('@')\n",
    "print (domain[1])"
   ]
  },
  {
   "cell_type": "code",
   "execution_count": 24,
   "id": "dceb316c-9060-45b6-b481-94f6b1d5ab41",
   "metadata": {},
   "outputs": [
    {
     "name": "stdout",
     "output_type": "stream",
     "text": [
      "['Toyota', 'Mercedes', 'BMW', 'Jeep', 'Honda']\n",
      "['Toyota', 'Ford', 'BMW', 'Jeep', 'Honda']\n",
      "['Ford', 'BMW', 'Jeep', 'Honda']\n",
      "False\n"
     ]
    }
   ],
   "source": [
    "#Perform the following operations on the \"Cars\" list:\n",
    "#Add \"Honda\" to the list.\n",
    "cars = [\"Toyota\", \"Mercedes\", \"BMW\", \"Jeep\"]\n",
    "cars.append(\"Honda\")\n",
    "print (cars)\n",
    "\n",
    "\n",
    "##Replace the second element with \"Ford\"\n",
    "cars[1]=\"Ford\"\n",
    "print(cars)\n",
    "\n",
    "#Remove \"Toyota\" from the list.\n",
    "cars.remove(\"Toyota\")\n",
    "print(cars)\n",
    "\n",
    "#Check if \"Subaru\" is in the list\n",
    "print(\"Subaru\"in cars)\n",
    "\n"
   ]
  },
  {
   "cell_type": "code",
   "execution_count": 25,
   "id": "fcc62c03-b965-4cec-8a34-15fe72031ecb",
   "metadata": {},
   "outputs": [
    {
     "name": "stdout",
     "output_type": "stream",
     "text": [
      "{'name': 'Ahmad', 'age': 25, 'occupation': 'doctor', 'country': 'Jordan'}\n",
      "{'name': 'Ahmad', 'age': 25, 'occupation': 'doctor', 'country': 'Jordan', 'city': 'Amman'}\n",
      "{'name': 'Ahmad', 'age': 25, 'occupation': 'Surgeon', 'country': 'Jordan', 'city': 'Amman'}\n",
      "{'name': 'Ahmad', 'age': 25, 'occupation': 'Surgeon', 'city': 'Amman'}\n",
      "{'name': 'Ahmad', 'age': 25, 'occupation': 'Surgeon', 'city': 'Amman'}\n"
     ]
    }
   ],
   "source": [
    "\"\"\"\n",
    "Create a new dictionary with the following key-value pairs: \"name\": \"Ahmad\", \"age\": 25, \"occupation\": \"doctor\", \"country\": \"Jordan\"\n",
    "Add a new key-value pair with \"city\": \"Amman\"\n",
    "Update the occupation to \"Surgeon\"\n",
    "Remove the \"country\" key-value pair from the dictionary.\n",
    "print out the updated dictionary.\n",
    "\"\"\"\n",
    "\n",
    "person = {\"name\": \"Ahmad\", \"age\": 25, \"occupation\": \"doctor\", \"country\": \"Jordan\"}\n",
    "print(person)\n",
    "\n",
    "#Add a new key-value pair with \"city\": \"Amman\"\n",
    "person[\"city\"]=\"Amman\"\n",
    "print(person)\n",
    "\n",
    "#Update the occupation to \"Surgeon\"\n",
    "person[\"occupation\"]=\"Surgeon\"\n",
    "print(person)\n",
    "\n",
    "#Remove the \"country\" key-value pair from the dictionary.\n",
    "del person[\"country\"]\n",
    "print(person)\n",
    "\n",
    "#print out the updated dictionary.\n",
    "print(person)"
   ]
  },
  {
   "cell_type": "code",
   "execution_count": 26,
   "id": "e587c601-3d62-4baa-a785-13bb0b2f606a",
   "metadata": {},
   "outputs": [
    {
     "name": "stdout",
     "output_type": "stream",
     "text": [
      "False\n",
      "{1, 2, 3, 5, 7, 8, 9, 16}\n",
      "{1, 2, 5, 7, 8, 9, 16}\n",
      "[1, 2, 5, 7, 8, 9, 16, 5]\n",
      "{1, 2, 5, 7, 8, 9, '5', 16}\n",
      "[1, 2, 5, 7, 8, 9, 16]\n",
      "16\n",
      "range(17, 26)\n",
      "{1, 2, 5, 7, 8, 9, 16, 17, 18, 19, 20, 21, 22, 23, 24, 25}\n",
      "{17, 18, 19, 20, 21, 22, 23, 24, 25}\n"
     ]
    }
   ],
   "source": [
    "#Complete the folowing opertasions on the \"numbers\" set:\n",
    "\n",
    "numbers = {2, 5, 16, 8, 7, 9, 3, 1}\n",
    "#Check if 4 is in the set.\n",
    "print(4 in numbers)\n",
    "\n",
    "#Add 5 to the set. (it will not be added as its already in the set)\n",
    "numbers.add(5)\n",
    "print(numbers)\n",
    "\n",
    "#Remove 3 from the set.\n",
    "numbers.remove(3)\n",
    "print(numbers)\n",
    "\n",
    "\n",
    "#Try to add a duplicate element to the set\n",
    "#\"set don't accept duplicate valutes, we can convert it to list and add duplucate, or add the duplucate as a different valrialbe type as string\"\n",
    "\n",
    "numbers= list(numbers)\n",
    "numbers.append(5)\n",
    "print(numbers)\n",
    "numbers= set(numbers)\n",
    "#or\n",
    "numbers1= list(numbers)\n",
    "numbers1.append(\"5\")\n",
    "print(set(numbers1))\n",
    "\n",
    "\n",
    "#Create a new set that contains numbers from in the range of m+1 to m+10, where m is the maximum number in the \"numbers\" set.\n",
    "\n",
    "#1.convert the set to list to get an indexed ordered list , the maximum value will be the value stored in index -1\n",
    "numbers2=list(numbers)\n",
    "print(numbers2)\n",
    "M=numbers2[-1]\n",
    "print(M)\n",
    "\n",
    "#2.create a range using the M value contains numebrs from M+1 to M+10  (If we want the M+10 to be included we need to set the range to M+11 )\n",
    "New_Numbers= range(M+1,M+10)\n",
    "print(New_Numbers)\n",
    "\n",
    "#3.Convert the range to set \n",
    "New_Numbers=set(New_Numbers)\n",
    "\n",
    "\n",
    "#Create a set that is the union of the two sets\n",
    "Union_set=numbers.union(New_Numbers)\n",
    "\n",
    "#print the union of the two sets\n",
    "print(Union_set)\n",
    "\n",
    "#print(new_set)\n",
    "print(New_Numbers)\n"
   ]
  },
  {
   "cell_type": "code",
   "execution_count": 27,
   "id": "2261266b",
   "metadata": {},
   "outputs": [
    {
     "name": "stdout",
     "output_type": "stream",
     "text": [
      "Thank You!\n"
     ]
    }
   ],
   "source": [
    "print (\"Thank You!\")"
   ]
  }
 ],
 "metadata": {
  "kernelspec": {
   "display_name": "Python 3 (ipykernel)",
   "language": "python",
   "name": "python3"
  },
  "language_info": {
   "codemirror_mode": {
    "name": "ipython",
    "version": 3
   },
   "file_extension": ".py",
   "mimetype": "text/x-python",
   "name": "python",
   "nbconvert_exporter": "python",
   "pygments_lexer": "ipython3",
   "version": "3.12.3"
  }
 },
 "nbformat": 4,
 "nbformat_minor": 5
}

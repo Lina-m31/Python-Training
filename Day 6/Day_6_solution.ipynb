{
 "cells": [
  {
   "cell_type": "markdown",
   "metadata": {},
   "source": [
    "#### Exercise 1:\n",
    "Write a python program that creates a file and writes the numbers from 1 to 10 each on a new line. Save your code in a file named `exercise1.py`"
   ]
  },
  {
   "cell_type": "code",
   "execution_count": 15,
   "metadata": {},
   "outputs": [],
   "source": [
    "with open ('exercse1.py','a') as f: \n",
    "    for i in range (1,11):\n",
    "        f.write(f\"{i}\\n\")\n"
   ]
  },
  {
   "cell_type": "markdown",
   "metadata": {},
   "source": [
    "#### Exercise 2:\n",
    "Write a python program that asks the user for input and appends the input to a file. The program should keep asking the user for input until the user enters the word \"stop\". Save your code in a file named `exercise2.py`"
   ]
  },
  {
   "cell_type": "code",
   "execution_count": 18,
   "metadata": {},
   "outputs": [],
   "source": [
    "\n",
    "\n",
    "while True :\n",
    "    user_input=input(\"Please enter your value: \")\n",
    "    if user_input == \"stop\" :\n",
    "        break\n",
    "    with open ('exercse2.py','a') as f: \n",
    "        f.write(f\"{user_input}\\n\")"
   ]
  },
  {
   "cell_type": "markdown",
   "metadata": {},
   "source": [
    "#### Exercise 3:\n",
    "Using pickle module, pickle the dictionary `book` and save it to a file. Then load the dictionary back from the file and print it."
   ]
  },
  {
   "cell_type": "code",
   "execution_count": 30,
   "metadata": {},
   "outputs": [
    {
     "name": "stdout",
     "output_type": "stream",
     "text": [
      "title:Head First Python\n",
      "author:Paul Barry\n",
      "price:50 USD\n"
     ]
    }
   ],
   "source": [
    "import pickle\n",
    "book = {\"title\": \"Head First Python\", \"author\": \"Paul Barry\", \"price\": \"50 USD\"}\n",
    "\n",
    "with open('book.pkl', 'wb') as file:\n",
    "    \n",
    "    pickle.dump(book, file)\n",
    "\n",
    "with open (\"book.pkl\", \"rb\") as file:\n",
    "    BOOK=pickle.load(file)\n",
    "    for K,value in BOOK.items():\n",
    "        print (f\"{K}:{value}\") "
   ]
  }
 ],
 "metadata": {
  "kernelspec": {
   "display_name": "Python 3",
   "language": "python",
   "name": "python3"
  },
  "language_info": {
   "codemirror_mode": {
    "name": "ipython",
    "version": 3
   },
   "file_extension": ".py",
   "mimetype": "text/x-python",
   "name": "python",
   "nbconvert_exporter": "python",
   "pygments_lexer": "ipython3",
   "version": "3.12.3"
  }
 },
 "nbformat": 4,
 "nbformat_minor": 2
}
